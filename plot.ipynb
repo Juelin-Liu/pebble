{
 "cells": [
  {
   "cell_type": "code",
   "execution_count": 19,
   "id": "258af7c0-185a-4f2c-b53c-6305079c5088",
   "metadata": {},
   "outputs": [],
   "source": [
    "import matplotlib.pyplot as plt\n",
    "import pandas as pd\n",
    "import dataclasses\n",
    "import json\n",
    "import os\n",
    "\n",
    "@dataclasses.dataclass\n",
    "class Config:\n",
    "    graph_name: str\n",
    "    model: str\n",
    "    lr: str\n",
    "    \n",
    "    def get_filename(self):\n",
    "        return f\"{self.graph_name}_{self.model}_{self.lr}.json\"\n",
    "    \n",
    "    def get_json(self, mode, data_dir=\"./json\"):\n",
    "        path = os.path.join(data_dir, mode, self.get_filename())\n",
    "        with open(path, \"r\") as f:\n",
    "            return json.load(f)\n",
    "    \n",
    "    def get_df(self, mode, data_dir=\"./json\"):\n",
    "        json_data = self.get_json(mode, data_dir)\n",
    "        data = [ item for item in json_data[\"results\"] ]\n",
    "        return pd.DataFrame(data)\n",
    "    \n",
    "    def get_pair(self, mode, data_dir=\"./json\"):\n",
    "        df = self.get_df(mode, data_dir)\n",
    "        return df['acc_epoch_time'], df['eval_acc']\n",
    "\n",
    "    \n",
    "def plot_data(mb_df, full_df, max_mb_epoch=-1, max_full_epoch=-1, plotname=None):\n",
    "    # Create a plot\n",
    "    plt.figure(figsize=(3, 2))\n",
    "    \n",
    "    plt.plot(mb_df['acc_epoch_time'][:max_mb_epoch], mb_df['eval_acc'][:max_mb_epoch], marker='o', markersize=3, linestyle='-', color='b', label=\"MB\")\n",
    "    plt.plot(full_df['acc_epoch_time'][:max_full_epoch], full_df['eval_acc'][:max_full_epoch], marker='x', linestyle='-', color='r', label=\"Full\")\n",
    "\n",
    "    # Add labels and title\n",
    "    plt.xlabel('Training Time (s)')\n",
    "    plt.ylabel('Accuracy')\n",
    "    plt.title('Accuracy vs. Training Time')\n",
    "    \n",
    "    # Display the plot\n",
    "    plt.grid(True)\n",
    "    plt.legend(loc=\"lower right\")\n",
    "    ymin, ymax = plt.ylim()\n",
    "    plt.ylim(0, min(1, ymax + 0.125))\n",
    "    if plotname:\n",
    "        os.makedirs(\"plot\", exist_ok=True)\n",
    "        plt.tight_layout()\n",
    "        plt.savefig(f\"./plot/{plotname}\")\n",
    "    plt.show()\n"
   ]
  },
  {
   "cell_type": "code",
   "execution_count": 1,
   "id": "2129ce81-2b56-418a-8560-f86ab724b06a",
   "metadata": {},
   "outputs": [
    {
     "ename": "NameError",
     "evalue": "name 'Config' is not defined",
     "output_type": "error",
     "traceback": [
      "\u001b[0;31m---------------------------------------------------------------------------\u001b[0m",
      "\u001b[0;31mNameError\u001b[0m                                 Traceback (most recent call last)",
      "Cell \u001b[0;32mIn[1], line 4\u001b[0m\n\u001b[1;32m      1\u001b[0m graph_names \u001b[38;5;241m=\u001b[39m [\u001b[38;5;124m\"\u001b[39m\u001b[38;5;124mogbn-arxiv\u001b[39m\u001b[38;5;124m\"\u001b[39m, \u001b[38;5;124m\"\u001b[39m\u001b[38;5;124mreddit\u001b[39m\u001b[38;5;124m\"\u001b[39m, \u001b[38;5;124m\"\u001b[39m\u001b[38;5;124mogbn-products\u001b[39m\u001b[38;5;124m\"\u001b[39m]\n\u001b[1;32m      3\u001b[0m \u001b[38;5;28;01mfor\u001b[39;00m graph_name \u001b[38;5;129;01min\u001b[39;00m graph_names:\n\u001b[0;32m----> 4\u001b[0m     mb_conf \u001b[38;5;241m=\u001b[39m \u001b[43mConfig\u001b[49m(graph_name\u001b[38;5;241m=\u001b[39mgraph_name, model\u001b[38;5;241m=\u001b[39m\u001b[38;5;124m\"\u001b[39m\u001b[38;5;124msage\u001b[39m\u001b[38;5;124m\"\u001b[39m, lr\u001b[38;5;241m=\u001b[39m\u001b[38;5;124m\"\u001b[39m\u001b[38;5;124m0.001\u001b[39m\u001b[38;5;124m\"\u001b[39m)\n\u001b[1;32m      5\u001b[0m     mb_df \u001b[38;5;241m=\u001b[39m mb_conf\u001b[38;5;241m.\u001b[39mget_df(\u001b[38;5;124m\"\u001b[39m\u001b[38;5;124mtrain_minibatch\u001b[39m\u001b[38;5;124m\"\u001b[39m, \u001b[38;5;124m\"\u001b[39m\u001b[38;5;124mjson\u001b[39m\u001b[38;5;124m\"\u001b[39m)\n\u001b[1;32m      6\u001b[0m     full_conf \u001b[38;5;241m=\u001b[39m Config(graph_name\u001b[38;5;241m=\u001b[39mgraph_name, model\u001b[38;5;241m=\u001b[39m\u001b[38;5;124m\"\u001b[39m\u001b[38;5;124mgat\u001b[39m\u001b[38;5;124m\"\u001b[39m, lr\u001b[38;5;241m=\u001b[39m\u001b[38;5;124m\"\u001b[39m\u001b[38;5;124m0.001\u001b[39m\u001b[38;5;124m\"\u001b[39m)\n",
      "\u001b[0;31mNameError\u001b[0m: name 'Config' is not defined"
     ]
    }
   ],
   "source": [
    "graph_names = [\"ogbn-arxiv\", \"reddit\", \"ogbn-products\"]\n",
    "\n",
    "for graph_name in graph_names:\n",
    "    mb_conf = Config(graph_name=graph_name, model=\"sage\", lr=\"0.001\")\n",
    "    mb_df = mb_conf.get_df(\"train_minibatch\", \"json\")\n",
    "    full_conf = Config(graph_name=graph_name, model=\"gat\", lr=\"0.001\")\n",
    "    full_df = full_conf.get_df(\"train_full\", \"json\")\n",
    "    plot_data(mb_df, full_df, 10, 20, f\"{graph_name}_mb_vs_full_cpu.pdf\")"
   ]
  },
  {
   "cell_type": "code",
   "execution_count": 2,
   "id": "c63f861d-4cee-4f04-84e9-6bddbd46b9a3",
   "metadata": {},
   "outputs": [
    {
     "ename": "NameError",
     "evalue": "name 'Config' is not defined",
     "output_type": "error",
     "traceback": [
      "\u001b[0;31m---------------------------------------------------------------------------\u001b[0m",
      "\u001b[0;31mNameError\u001b[0m                                 Traceback (most recent call last)",
      "Cell \u001b[0;32mIn[2], line 2\u001b[0m\n\u001b[1;32m      1\u001b[0m \u001b[38;5;28;01mfor\u001b[39;00m graph_name \u001b[38;5;129;01min\u001b[39;00m graph_names:\n\u001b[0;32m----> 2\u001b[0m     mb_conf \u001b[38;5;241m=\u001b[39m \u001b[43mConfig\u001b[49m(graph_name\u001b[38;5;241m=\u001b[39mgraph_name, model\u001b[38;5;241m=\u001b[39m\u001b[38;5;124m\"\u001b[39m\u001b[38;5;124msage\u001b[39m\u001b[38;5;124m\"\u001b[39m, lr\u001b[38;5;241m=\u001b[39m\u001b[38;5;124m\"\u001b[39m\u001b[38;5;124m0.001\u001b[39m\u001b[38;5;124m\"\u001b[39m)\n\u001b[1;32m      3\u001b[0m     mb_df \u001b[38;5;241m=\u001b[39m mb_conf\u001b[38;5;241m.\u001b[39mget_df(\u001b[38;5;124m\"\u001b[39m\u001b[38;5;124mtrain_minibatch\u001b[39m\u001b[38;5;124m\"\u001b[39m, \u001b[38;5;124m\"\u001b[39m\u001b[38;5;124mjson\u001b[39m\u001b[38;5;124m\"\u001b[39m)\n\u001b[1;32m      4\u001b[0m     full_conf \u001b[38;5;241m=\u001b[39m Config(graph_name\u001b[38;5;241m=\u001b[39mgraph_name, model\u001b[38;5;241m=\u001b[39m\u001b[38;5;124m\"\u001b[39m\u001b[38;5;124mgat\u001b[39m\u001b[38;5;124m\"\u001b[39m, lr\u001b[38;5;241m=\u001b[39m\u001b[38;5;124m\"\u001b[39m\u001b[38;5;124m0.001\u001b[39m\u001b[38;5;124m\"\u001b[39m)\n",
      "\u001b[0;31mNameError\u001b[0m: name 'Config' is not defined"
     ]
    }
   ],
   "source": [
    "for graph_name in graph_names:\n",
    "    mb_conf = Config(graph_name=graph_name, model=\"sage\", lr=\"0.001\")\n",
    "    mb_df = mb_conf.get_df(\"train_minibatch\", \"json\")\n",
    "    full_conf = Config(graph_name=graph_name, model=\"gat\", lr=\"0.001\")\n",
    "    full_df = full_conf.get_df(\"train_full\", \"json\")"
   ]
  },
  {
   "cell_type": "code",
   "execution_count": null,
   "id": "2a96e35a-daf9-4551-afce-d5b0aa7bd0a8",
   "metadata": {},
   "outputs": [],
   "source": []
  }
 ],
 "metadata": {
  "kernelspec": {
   "display_name": "Python 3 (ipykernel)",
   "language": "python",
   "name": "python3"
  },
  "language_info": {
   "codemirror_mode": {
    "name": "ipython",
    "version": 3
   },
   "file_extension": ".py",
   "mimetype": "text/x-python",
   "name": "python",
   "nbconvert_exporter": "python",
   "pygments_lexer": "ipython3",
   "version": "3.11.9"
  }
 },
 "nbformat": 4,
 "nbformat_minor": 5
}
